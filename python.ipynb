{
  "nbformat": 4,
  "nbformat_minor": 0,
  "metadata": {
    "colab": {
      "provenance": [],
      "authorship_tag": "ABX9TyMJ3iakx8vilx9Bv3kQIWg5",
      "include_colab_link": true
    },
    "kernelspec": {
      "name": "python3",
      "display_name": "Python 3"
    },
    "language_info": {
      "name": "python"
    }
  },
  "cells": [
    {
      "cell_type": "markdown",
      "metadata": {
        "id": "view-in-github",
        "colab_type": "text"
      },
      "source": [
        "<a href=\"https://colab.research.google.com/github/anmolbrian/Learning-python/blob/main/python.ipynb\" target=\"_parent\"><img src=\"https://colab.research.google.com/assets/colab-badge.svg\" alt=\"Open In Colab\"/></a>"
      ]
    },
    {
      "cell_type": "code",
      "execution_count": 1,
      "metadata": {
        "id": "vzka44Y7jH4p"
      },
      "outputs": [],
      "source": [
        "# Write a python programe to check if a number is odd or even "
      ]
    },
    {
      "cell_type": "code",
      "source": [
        "num = int(input(\"Enter a Number:\")) \n",
        "if num % 2 == 0: \n",
        "  print(\"Given number is Even\") \n",
        "else: \n",
        "  print(\"Given number is Odd\")"
      ],
      "metadata": {
        "colab": {
          "base_uri": "https://localhost:8080/"
        },
        "id": "HavGcOsm6xAb",
        "outputId": "44d3d22b-9e8a-4be5-c499-2cb5bb0cee1d"
      },
      "execution_count": 16,
      "outputs": [
        {
          "output_type": "stream",
          "name": "stdout",
          "text": [
            "Enter a Number:66\n",
            "Given number is Even\n"
          ]
        }
      ]
    }
  ]
}